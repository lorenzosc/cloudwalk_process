{
 "cells": [
  {
   "cell_type": "markdown",
   "metadata": {},
   "source": [
    "# CLOUDWALK TECHNICAL CASE\n",
    "Hello, my name is Lorenzo, and this is my presentation for the cloudwalk technical case solution, which revolves around python scripting, sql, and postgresql database management. This presentation will be divided in the same sections and questions that they were posted in the repository presenting the case"
   ]
  },
  {
   "cell_type": "markdown",
   "metadata": {},
   "source": [
    "#### DATABASE\n",
    "1. I set up a database in postgres as within my localhost and imported both tables provided in the repository. The DB was setup using the code described in [create_import_tables.sql](https://github.com/lorenzosc/cloudwalk_process/blob/master/create_import_tables.sql)\n",
    "2. The 2 tables, clients and loans, share a relationship of one to many. Each client can have several loans. Which means the best way to set up these tables is by using a foreign key in the loans table referencing the user_id in the clients table, which is a primary key. The schema below can exemplify the structure of this database between these 2 tables.\n",
    "\n",
    "![Schema](images/schema.png)"
   ]
  },
  {
   "cell_type": "markdown",
   "metadata": {},
   "source": [
    "#### SQL and Data Viz\n",
    "1\n",
    "\n",
    "The operation seems to be  having an exponential growth since the begin in january 2020. Due to that, as expected, the month where the most amount of money was lent is December 2023. We can see the growth in money lent in the following chart.\n",
    "\n",
    "![Money lent](images/question1.png)\n",
    "\n",
    "\n",
    "The SQL query used for this question is shown in [analyze_best_month.sql](https://github.com/lorenzosc/cloudwalk_process/blob/master/analyze_best_month.sql)\n"
   ]
  },
  {
   "cell_type": "markdown",
   "metadata": {},
   "source": [
    "2\n",
    "\n",
    "The adherence of all batches is around 80%. The batch 2 had a specially bad adhrence, with 76%, while batch 4 was specially better, with 84%. Although it's also important to note that batch 4 had the fewest amount of approved clients, but batch 2 didn't have the greatest amount of approved clients, so this isn't a linear relation.\n",
    "\n",
    "![Adherence by batch](images/adherence_batch.png)\n",
    "\n",
    "\n",
    "The query can be seen in [adherence_by_batch.sql](https://github.com/lorenzosc/cloudwalk_process/blob/master/adherence_by_batch.sql)\n",
    "\n"
   ]
  },
  {
   "cell_type": "markdown",
   "metadata": {},
   "source": [
    "3\n",
    "\n",
    "The interest rate doesn't seem to have any influence in the loan status, even when considering the standard deviation of the interest rate per type of status.\n",
    "\n",
    "![Interest rate per status](images/interest_rate_status.png)\n",
    "\n",
    "That doesn't mean that arbitrarily raising interest rates wouldn't change the default rate, only that the current method of choosing interest rates makes a investment of lower rate be just as likely as one with higher tax to not be paid in full.\n",
    "\n",
    "\n",
    "The query can be seem in [interest_x_default_rate.sql](https://github.com/lorenzosc/cloudwalk_process/blob/master/interest_x_default_rate.sql)"
   ]
  },
  {
   "cell_type": "markdown",
   "metadata": {},
   "source": [
    "4\n",
    "\n",
    "The best clients are those that aren't default that have already generated the biggest ammount of revenue with our given data. Provided more history on clients, it could be possible to make a more robust evaluation, taking into account the number of loans they have taken, the time it took for them to pay, and more, to be more precise with how good a client is. But on a simpler method, we can also use if they have some money due as our first method of evaluating, and how much profit they generated as a tiebreaker between clients that have payed off their debts.\n",
    "\n",
    "The 10 best clients are, together with their profit and return on investment\n",
    "\n",
    "| user_id | total_loan | total_paid | profit    | return on investment |\n",
    "|---------|------------|------------|-----------|----------------------|\n",
    "|   77087 |     457594 |  565668.55 | 108074.55 |               23.62% |\n",
    "|   44244 |     362316 |  447887.79 |  85571.79 |               23.62% |\n",
    "|   28742 |     352145 |  435314.61 |  83169.61 |               23.62% |\n",
    "|   80867 |     336894 |  416461.63 |  79567.63 |               23.62% |\n",
    "|   41151 |     320096 |  395696.28 |  75600.28 |               23.62% |\n",
    "|   11529 |     309072 |  382068.62 |  72996.62 |               23.62% |\n",
    "|   16557 |     306955 |  379451.63 |  72496.63 |               23.62% |\n",
    "|   70705 |     300277 |  371196.43 |  70919.43 |               23.62% |\n",
    "|   58861 |     298582 |  369101.09 |  70519.09 |               23.62% |\n",
    "|   12241 |     294229 |  363720.01 |  69491.01 |               23.62% |\n",
    "\n",
    "And the 10 worst clients are\n",
    "\n",
    "| user_id | total_loan | total_due | total_paid | profit    | return on investiment | debt       |\n",
    "|---------|------------|-----------|------------|-----------|-----------------------|------------|\n",
    "|   66899 |      96486 | 119274.06 |       3345 |    -93141 |               -96.53% | -115929.06 |\n",
    "|   30138 |     161038 | 199071.95 |   84272.68 | -76765.32 |               -47.67% | -114799.27 |\n",
    "|    8934 |     157571 | 186907.57 |   79209.31 | -78361.69 |               -49.73% | -107698.26 |\n",
    "|   89832 |     190678 | 226178.43 |  118712.15 | -71965.85 |               -37.74% | -107466.28 |\n",
    "|   20291 |     180953 | 223690.48 |  116983.33 | -63969.67 |               -35.35% | -106707.15 |\n",
    "|   49266 |      85674 | 105908.49 |    5697.61 | -79976.39 |               -93.35% | -100210.88 |\n",
    "|   34726 |     136141 | 168294.78 |   70368.25 | -65772.75 |               -48.31% |  -97926.53 |\n",
    "|   80125 |     153090 | 181592.29 |   83844.86 | -69245.14 |               -45.23% |  -97747.43 |\n",
    "|   81110 |      79051 |  97721.27 |     696.33 | -78354.67 |               -99.12% |  -97024.94 |\n",
    "|   73637 |     113215 | 139954.12 |   43315.28 | -69899.72 |               -61.74% |  -96638.84 |\n",
    "\n",
    "The query used can be seem in [rank_clients.sql](https://github.com/lorenzosc/cloudwalk_process/blob/master/rank_clients.sql)"
   ]
  },
  {
   "cell_type": "markdown",
   "metadata": {},
   "source": [
    "5\n",
    "\n",
    "We can see that the default rate was much higher in the initial operation, and it's dropping for every batch to stabilize around 10%. In the last months, there was a raise, but that could be by clients who are due, have the intention to pay but couldn't find the money yet.\n",
    "\n",
    "![Default Rate](images/default_rate.png)\n",
    "\n",
    "The query used can be seem in [default_by_month_batch.sql](https://github.com/lorenzosc/cloudwalk_process/blob/master/default_by_month_batch.sql)"
   ]
  },
  {
   "cell_type": "markdown",
   "metadata": {},
   "source": [
    "6\n",
    "\n",
    "The profitability of the operation along the time can be seem by analyzing the profit and the return on investiment across time.\n",
    "\n",
    "In profit, we have\n",
    "\n",
    "![Profit](images/profit.png)\n",
    "\n",
    "For return on investment, we have\n",
    "\n",
    "![Return on Investment](images/roi.png)\n",
    "\n",
    "As we can see, the operation seems to have stabilized close to 7.5% return on investment for our 3 months lend, which would translate to almost 2.43% monthly. Since the interest rate in Brazil is 11.25% annually, which translate to .89% monthly, this operation could generate a great amount of profit. In our profit graph, the raise in profit can be explained by the increase in the volume of operations, since the return on investment didn't raise a lot above 7.5% at any point. This operation, then, is much profitable, and is benefiting a lot from the increase in money lent.\n",
    "\n",
    "The query used can be seem in [profitability.sql](https://github.com/lorenzosc/cloudwalk_process/blob/master/profitability.sql)"
   ]
  },
  {
   "cell_type": "markdown",
   "metadata": {},
   "source": [
    "#### Python and Infra\n"
   ]
  },
  {
   "cell_type": "markdown",
   "metadata": {},
   "source": [
    "1 \n",
    "\n",
    "For the first question, functions to add, alter, and delete clients exists in [project/handle_db.py](https://github.com/lorenzosc/cloudwalk_process/blob/master/project/handle_db.py). The configuration and connection is handled by modules inside utils module in the project."
   ]
  },
  {
   "cell_type": "markdown",
   "metadata": {},
   "source": [
    "2\n",
    "\n",
    "All the routine activities are gathered in [project/routine](https://github.com/lorenzosc/cloudwalk_process/blob/master/project/routine)\n",
    "\n",
    "In daily.py, the processes made are to update status for paid and defaulted loans. Then it's also important to check all the users with privileges in the database, and also verify password expiration, sending email to remind those whose password expires in less than a week.\n",
    "\n",
    "In weekly.py, I defined processes to verify the data volume inside the database and to make a backup. This is important to guard against big crashes, and also to scalated the service where the database is hosted in case the data volume is getting to big for the current container.\n",
    "\n",
    "In monthly.py, I believe it's important to verify that the restore method and backup files are working, so the name of the backup file is passed as argument for the script. Then it builds the database, vacuums it to ensure the file isn't corrupted, and drop the tables afterwards. Another important aspect is to keep the indexes and the database statistics updated, so it's run a REINDEX, a VACUUM, and a CLUSTER operation for better performance."
   ]
  },
  {
   "cell_type": "markdown",
   "metadata": {},
   "source": [
    "3\n",
    "\n",
    "I created a Flask application that can run on the background to remind users of ongoing loans. It sends emails daily for users that are due in 30, 15, 7, 1, and in the day they're due as well. It says how much they're still due, as well as how many days are left in their deadline. In the current database, we there is no access to clients name or email, and both would be required to generate a proper email body and send target, so the queries used in the database would have to be adjusted in a real scenario, but aside from that, the rest of the structure of the application is ready for usage."
   ]
  },
  {
   "cell_type": "markdown",
   "metadata": {},
   "source": [
    "4\n",
    "\n",
    "The weekly summary is generated by the [project/routine/week_summary.py](https://github.com/lorenzosc/cloudwalk_process/blob/master/project/routine/week_summary.py) script. It must be ran manually, and gathers data from the last 7 days to generate the summary on the operation, describing loans that were paid and that became default, new loans, expected profit from the new loans, this week's profit and return on investment.\n",
    "\n",
    "A showcase of the email that would be weekly generated is shown below.\n",
    "\n",
    "![Weekly Summary](images/email_sample.png)"
   ]
  }
 ],
 "metadata": {
  "language_info": {
   "name": "python"
  }
 },
 "nbformat": 4,
 "nbformat_minor": 2
}
